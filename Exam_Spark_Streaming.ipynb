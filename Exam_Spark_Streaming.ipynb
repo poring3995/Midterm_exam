{
  "nbformat": 4,
  "nbformat_minor": 0,
  "metadata": {
    "colab": {
      "provenance": [],
      "authorship_tag": "ABX9TyMcjO+SYN3+zaGB/yCkF3hP",
      "include_colab_link": true
    },
    "kernelspec": {
      "name": "python3",
      "display_name": "Python 3"
    },
    "language_info": {
      "name": "python"
    }
  },
  "cells": [
    {
      "cell_type": "markdown",
      "metadata": {
        "id": "view-in-github",
        "colab_type": "text"
      },
      "source": [
        "<a href=\"https://colab.research.google.com/github/poring3995/Midterm_exam/blob/main/Exam_Spark_Streaming.ipynb\" target=\"_parent\"><img src=\"https://colab.research.google.com/assets/colab-badge.svg\" alt=\"Open In Colab\"/></a>"
      ]
    },
    {
      "cell_type": "code",
      "execution_count": 1,
      "metadata": {
        "id": "B9vdxPUnYMXd"
      },
      "outputs": [],
      "source": [
        "%%capture\n",
        "!sudo apt-get update --fix-missing\n",
        "\n",
        "!apt-get install openjdk-8-jdk-headless -qq > /dev/null\n",
        "\n",
        "!wget -q https://archive.apache.org/dist/spark/spark-3.0.0/spark-3.0.0-bin-hadoop3.2.tgz\n",
        "#!wget -q https://downloads.apache.org/spark/spark-3.0.0/spark-3.0.0-bin-hadoop3.2.tgz\n",
        "\n",
        "!mv spark-3.0.0-bin-hadoop3.2.tgz sparkkk\n",
        "!tar xf sparkkk\n",
        "!pip install -q findspark\n",
        "     \n",
        "\n",
        "#pip install spark\n",
        "     \n",
        "\n",
        "import os\n",
        "os.environ[\"JAVA_HOME\"] = \"/usr/lib/jvm/java-8-openjdk-amd64\"\n",
        "os.environ[\"SPARK_HOME\"] = \"/content/spark-3.0.0-bin-hadoop3.2\"\n",
        "\n",
        "import findspark\n",
        "findspark.init()\n",
        "\n",
        "from pyspark.sql import SparkSession\n",
        "spark = SparkSession.builder.master(\"local[*]\").getOrCreate()\n",
        "\n",
        "from pyspark.sql import SparkSession\n",
        "\n",
        "spark = SparkSession \\\n",
        "    .builder \\\n",
        "    .appName(\"Streaming Process Files\") \\\n",
        "    .config(\"spark.streaming.stopGracefullyOnShutdown\", True) \\\n",
        "    .master(\"local[*]\") \\\n",
        "    .getOrCreate()\n",
        "\n",
        "spark  "
      ]
    },
    {
      "cell_type": "code",
      "source": [
        "#Process 1 :  set the spark schemaInfernece to True To allow automatic schemaInference while reading\n",
        "spark.conf.set(\"spark.sql.streaming.schemaInference\", True)\n",
        "\n",
        "#Process 2 :  Create the streaming_df to readStream from input directory\n",
        "streaming_df = spark.readStream\\\n",
        "    .format(\"json\") \\\n",
        "    .option(\"cleanSource\", \"archive\") \\\n",
        "    .option(\"sourceArchiveDir\", \"/content/news/\") \\\n",
        "    .option(\"maxFilesPerTrigger\", 1) \\\n",
        "    .load(\"/content/input-5999222002/\")"
      ],
      "metadata": {
        "id": "RMKeaxR-YQLk"
      },
      "execution_count": 22,
      "outputs": []
    },
    {
      "cell_type": "code",
      "source": [
        "# Process 3 : I would like to check the schema of the data, so I place a sample json file and change readStream to read (expirimental process, so the uploaded version will be set with readStream instead)\n",
        "streaming_df.printSchema()\n",
        "streaming_df.show(truncate=False)"
      ],
      "metadata": {
        "colab": {
          "base_uri": "https://localhost:8080/"
        },
        "id": "u-xBDodGYQa6",
        "outputId": "e3d4c62c-f9fe-487f-c1d5-97f7b3785de4"
      },
      "execution_count": 14,
      "outputs": [
        {
          "output_type": "stream",
          "name": "stdout",
          "text": [
            "root\n",
            " |-- authors: string (nullable = true)\n",
            " |-- category: string (nullable = true)\n",
            " |-- date: string (nullable = true)\n",
            " |-- headline: string (nullable = true)\n",
            " |-- link: string (nullable = true)\n",
            " |-- short_description: string (nullable = true)\n",
            "\n",
            "+---------------------------------------+--------------+----------+----------------------------------------------------------------------------------------+-----------------------------------------------------------------------------------------------------------------+--------------------------------------------------------------------------------------------------------------------------------------------------------------------------------------------------------+\n",
            "|authors                                |category      |date      |headline                                                                                |link                                                                                                             |short_description                                                                                                                                                                                       |\n",
            "+---------------------------------------+--------------+----------+----------------------------------------------------------------------------------------+-----------------------------------------------------------------------------------------------------------------+--------------------------------------------------------------------------------------------------------------------------------------------------------------------------------------------------------+\n",
            "|                                       |U.S. NEWS     |2022-09-04|Emergency Declared As Flash Flooding Hits Northwest Georgia                             |https://www.huffpost.com/entry/georgia-flash-flooding_n_63151514e4b0eac9f4cdc7d3                                 |Thunderstorms and heavy rain pounded parts of northwest Georgia on Sunday, sparking flash flooding and dangerously high waters in some areas.                                                           |\n",
            "|Marco Margaritoff                      |ENTERTAINMENT |2022-09-03|'The Osbournes' Will Return In British Revival On BBC: 'Same Laughter, Love And Tears'  |https://www.huffpost.com/entry/the-osbournes-revival-series-announcement_n_6313714ee4b046aa022acc2e              |Millennials might remember the family's MTV reality series from the early 2000s. The BBC series will be filmed at the 350-acre Osbourne estate in England.                                              |\n",
            "|                                       |U.S. NEWS     |2022-09-03|Plane That Circled Mississippi Threatening To Crash Has Landed                          |https://www.huffpost.com/entry/tupelo-mississippi-airplane-walmart_n_6313572be4b0536be045b912                    |A pilot has been arrested after circling a small airplane over Tupelo, Mississippi, while threatening to crash into a Walmart store.                                                                    |\n",
            "|Marcia Dunn, AP                        |SCIENCE       |2022-09-03|Fuel Leak Ruins NASA's 2nd Shot At Launching New Moon Rocket                            |https://www.huffpost.com/entry/fuel-leak-ruins-nasa-launch-moon-artemis_n_63137247e4b0eac9f4cd4aa2               |Part of the space agency's Artemis program, the rocket is the most powerful to date.                                                                                                                    |\n",
            "|Terry Wallace, AP                      |U.S. NEWS     |2022-09-03|9 Migrants Are Found Dead In Rio Grande: Border Patrol                                  |https://www.huffpost.com/entry/8-migrants-dead-rio-grande-border-patrol_n_6312d71ce4b0536be0458388               |Tragic toll followed hazardous crossing by desperate dozens, said officials.                                                                                                                            |\n",
            "|Ben Blanchet                           |U.S. NEWS     |2022-09-02|Owner Of New England Frozen Yogurt Shops Accused Of Hiding Camera In Store Bathroom     |https://www.huffpost.com/entry/new-england-frozen-yogurt-owner-charged_n_6311972ae4b020c4ffab96b2                |Nashua police charged Chanphanou (Sab) Pou with three misdemeanor counts of violation of privacy. He could face up to one year in jail for each charge.                                                 |\n",
            "|Marita Vlachou                         |POLITICS      |2022-09-02|Former White House Counsel Pat Cipollone To Testify Before Grand Jury: Reports          |https://www.huffpost.com/entry/pat-cipollone-jan-6-grand-jury_n_6311c619e4b07d96a24d2ae8                         |Cipollone's former deputy Patrick Philbin is also reportedly scheduled to provide testimony to the grand jury on Friday.                                                                                |\n",
            "|                                       |U.S. NEWS     |2022-09-02|Tropical Storm Danielle Strengthens Into Hurricane, No Current Threat To Land           |https://www.huffpost.com/entry/hurricane-danielle-tropical-storm_n_631236a4e4b020c4ffacca40                      |The storm — the first hurricane of an unusually quiet storm season — is centered about 885 miles west of the Azores.                                                                                    |\n",
            "|Jim Heintz and Vladimir Isachenkov, AP |WORLD NEWS    |2022-09-02|Putin Plans To Snub Gorbachev's Funeral                                                 |https://www.huffpost.com/entry/putin-snubs-gorbachev-funeral_n_6312499ce4b09e34c39504ef                          |The low-key funeral reflects the Kremlin’s uneasiness about the legacy of Gorbachev, who is despised by many at home for the collapse of the Soviet Union.                                              |\n",
            "|Marcia Dunn, AP                        |U.S. NEWS     |2022-09-02|NASA Aims For Saturday Launch Of New Moon Rocket After Fixing Fuel Leaks                |https://www.huffpost.com/entry/nasa-artemis-rocket-launch_n_631265e3e4b0fc6bd23b7e7e                             |The inaugural flight of the 322-foot Artemis I rocket — the most powerful ever built by NASA — was delayed late in the countdown Monday.                                                                |\n",
            "|Christopher Rugaber, AP                |U.S. NEWS     |2022-09-02|U.S. Hiring Slowed In August As Employers Add 315,000 Jobs                              |https://www.huffpost.com/entry/us-economy-jobs-report-august_n_6311fc30e4b0aefceecb070e                          |The unemployment rate rose to 3.7%, from a half-century low of 3.5% in July, as more Americans came off the sidelines to look for jobs.                                                                 |\n",
            "|Nina Golgowski                         |U.S. NEWS     |2022-09-01|Pregnant Woman Who Claimed Unborn Baby Was HOV Lane Passenger Receives Another Ticket   |https://www.huffpost.com/entry/pregnant-brandy-bottone-texas-hov-lane-citation_n_6310b3f7e4b088f7423b32d0        |Brandy Bottone had referred to Roe v. Wade and Texas' penal code, which identifies an unborn child as an individual, when she was first stopped for using the lane.                                     |\n",
            "|Eric Tucker and Mary Clare Jalonick, AP|U.S. NEWS     |2022-09-21|Virginia Thomas Agrees To Interview With Jan. 6 Panel                                   |https://www.huffpost.com/entry/virginia-thomas-agrees-to-interview-with-jan-6-panel_n_632ba0f2e4b09d8701bbe16d   |Conservative activist Virginia Thomas, the wife of Supreme Court Justice Clarence Thomas, has agreed to participate in a voluntary interview with the House panel investigating the Jan. 6 insurrection.|\n",
            "|Marco Margaritoff                      |WORLD NEWS    |2022-09-20|Russian Cosmonaut Valery Polyakov Who Broke Record With 437-Day Stay In Space Dies At 80|https://www.huffpost.com/entry/valery-polyakov-dies_n_6329d497e4b0913a3dd5336c                                   |Polyakov's record-breaking trip to outer space saw him orbit Earth 7,075 times and travel nearly 187 million miles.                                                                                     |\n",
            "|Marina Fang and Candice Frederick      |CULTURE & ARTS|2022-09-20|'Reboot' Is A Clever And Not Too Navel-Gazey Look Inside TV Reboots                     |https://www.huffpost.com/entry/hulu-reboot-should-you-watch-it_n_6324a099e4b0eac9f4e18b46                        |Starring Keegan-Michael Key, Judy Greer and Johnny Knoxville, the Hulu show follows the revival of a fictional early 2000s sitcom.                                                                      |\n",
            "|Beth Harris, AP                        |SPORTS        |2022-09-20|Maury Wills, Base-Stealing Shortstop For Dodgers, Dies At 89                            |https://www.huffpost.com/entry/dodgers-baseball-obit-wills_n_6329feb3e4b07198f0134500                            |Maury Wills, who helped the Los Angeles Dodgers win three World Series titles with his base-stealing prowess, has died.                                                                                 |\n",
            "|Jon Gambrell, AP                       |WORLD NEWS    |2022-09-20|4 Russian-Controlled Ukrainian Regions Schedule Votes This Week To Join Russia          |https://www.huffpost.com/entry/russian-controlled-ukrainian-regions-referendum_n_6329d53ae4b07198f012f023        |The concerted and quickening Kremlin-backed efforts to swallow up four regions could set the stage for Moscow to escalate the war.                                                                      |\n",
            "|Dánica Coto, AP                        |WORLD NEWS    |2022-09-20|Fiona Barrels Toward Turks And Caicos Islands As Category 3 Hurricane                   |https://www.huffpost.com/entry/hurricane-fiona-barrels-toward-turks-and-caicos-islands_n_63298597e4b0ed991abcacf9|The Turks and Caicos Islands government imposed a curfew as the intensifying storm kept dropping copious rain over the Dominican Republic and Puerto Rico.                                              |\n",
            "|                                       |ENTERTAINMENT |2022-09-20|Golden Globes Returning To NBC In January After Year Off-Air                            |https://www.huffpost.com/entry/golden-globes-return-nbc_n_6329f151e4b0ed991abda7f3                               |For the past 18 months, Hollywood has effectively boycotted the Globes after reports that the HFPA’s 87 members of non-American journalists included no Black members.                                  |\n",
            "|                                       |POLITICS      |2022-09-19|Biden Says U.S. Forces Would Defend Taiwan If China Invaded                             |https://www.huffpost.com/entry/biden-us-forces-defend-taiwan-against-china_n_6327ec68e4b0ed021dfe3695            |President issues vow as tensions with China rise.                                                                                                                                                       |\n",
            "+---------------------------------------+--------------+----------+----------------------------------------------------------------------------------------+-----------------------------------------------------------------------------------------------------------------+--------------------------------------------------------------------------------------------------------------------------------------------------------------------------------------------------------+\n",
            "only showing top 20 rows\n",
            "\n"
          ]
        }
      ]
    },
    {
      "cell_type": "code",
      "source": [
        "# Process 4 : list the data heading column into the stream\n",
        "from pyspark.sql.functions import explode, col\n",
        "\n",
        "exploded_df = streaming_df \\\n",
        "    .select(\"authors\", \"category\", \"date\", \"headline\", \"link\", \"short_description\") \\\n",
        "    "
      ],
      "metadata": {
        "id": "fdClaTOuYQrR"
      },
      "execution_count": 23,
      "outputs": []
    },
    {
      "cell_type": "code",
      "source": [
        "# Process 5 : Flatten listed the data \n",
        "flattened_df = exploded_df \\\n",
        "    .selectExpr(\"authors\", \"category\", \"date\", \"headline\", \"link\", \"short_description\") \n",
        "print(flattened_df)"
      ],
      "metadata": {
        "colab": {
          "base_uri": "https://localhost:8080/"
        },
        "id": "0GTjFfWYYQ2Q",
        "outputId": "911b66fc-6de7-4ae1-d4a0-7e6cd047a54a"
      },
      "execution_count": 24,
      "outputs": [
        {
          "output_type": "stream",
          "name": "stdout",
          "text": [
            "DataFrame[authors: string, category: string, date: string, headline: string, link: string, short_description: string]\n"
          ]
        }
      ]
    },
    {
      "cell_type": "code",
      "source": [
        "# Process 6 :Write the output to console sink to check the output\n",
        "writing_df = flattened_df.writeStream \\\n",
        "    .format(\"json\") \\\n",
        "    .option(\"path\", \"/content/output-5999222002/\") \\\n",
        "    .option(\"checkpointLocation\",\"checkpoint_dir\") \\\n",
        "    .outputMode(\"append\") \\\n",
        "    .start()\n",
        "    \n",
        "#Process 7 : I interrupt with manual method in order to run the next processq\n",
        "writing_df.awaitTermination()"
      ],
      "metadata": {
        "colab": {
          "base_uri": "https://localhost:8080/",
          "height": 347
        },
        "id": "lvim0x1fYRJN",
        "outputId": "23b506b2-c738-4feb-e990-4276ead92204"
      },
      "execution_count": 29,
      "outputs": [
        {
          "output_type": "error",
          "ename": "KeyboardInterrupt",
          "evalue": "ignored",
          "traceback": [
            "\u001b[0;31m---------------------------------------------------------------------------\u001b[0m",
            "\u001b[0;31mKeyboardInterrupt\u001b[0m                         Traceback (most recent call last)",
            "\u001b[0;32m<ipython-input-29-b2905e1a3fba>\u001b[0m in \u001b[0;36m<cell line: 10>\u001b[0;34m()\u001b[0m\n\u001b[1;32m      8\u001b[0m \u001b[0;34m\u001b[0m\u001b[0m\n\u001b[1;32m      9\u001b[0m \u001b[0;34m\u001b[0m\u001b[0m\n\u001b[0;32m---> 10\u001b[0;31m \u001b[0mwriting_df\u001b[0m\u001b[0;34m.\u001b[0m\u001b[0mawaitTermination\u001b[0m\u001b[0;34m(\u001b[0m\u001b[0;34m)\u001b[0m\u001b[0;34m\u001b[0m\u001b[0;34m\u001b[0m\u001b[0m\n\u001b[0m",
            "\u001b[0;32m/content/spark-3.0.0-bin-hadoop3.2/python/pyspark/sql/streaming.py\u001b[0m in \u001b[0;36mawaitTermination\u001b[0;34m(self, timeout)\u001b[0m\n\u001b[1;32m    101\u001b[0m             \u001b[0;32mreturn\u001b[0m \u001b[0mself\u001b[0m\u001b[0;34m.\u001b[0m\u001b[0m_jsq\u001b[0m\u001b[0;34m.\u001b[0m\u001b[0mawaitTermination\u001b[0m\u001b[0;34m(\u001b[0m\u001b[0mint\u001b[0m\u001b[0;34m(\u001b[0m\u001b[0mtimeout\u001b[0m \u001b[0;34m*\u001b[0m \u001b[0;36m1000\u001b[0m\u001b[0;34m)\u001b[0m\u001b[0;34m)\u001b[0m\u001b[0;34m\u001b[0m\u001b[0;34m\u001b[0m\u001b[0m\n\u001b[1;32m    102\u001b[0m         \u001b[0;32melse\u001b[0m\u001b[0;34m:\u001b[0m\u001b[0;34m\u001b[0m\u001b[0;34m\u001b[0m\u001b[0m\n\u001b[0;32m--> 103\u001b[0;31m             \u001b[0;32mreturn\u001b[0m \u001b[0mself\u001b[0m\u001b[0;34m.\u001b[0m\u001b[0m_jsq\u001b[0m\u001b[0;34m.\u001b[0m\u001b[0mawaitTermination\u001b[0m\u001b[0;34m(\u001b[0m\u001b[0;34m)\u001b[0m\u001b[0;34m\u001b[0m\u001b[0;34m\u001b[0m\u001b[0m\n\u001b[0m\u001b[1;32m    104\u001b[0m \u001b[0;34m\u001b[0m\u001b[0m\n\u001b[1;32m    105\u001b[0m     \u001b[0;34m@\u001b[0m\u001b[0mproperty\u001b[0m\u001b[0;34m\u001b[0m\u001b[0;34m\u001b[0m\u001b[0m\n",
            "\u001b[0;32m/content/spark-3.0.0-bin-hadoop3.2/python/lib/py4j-0.10.9-src.zip/py4j/java_gateway.py\u001b[0m in \u001b[0;36m__call__\u001b[0;34m(self, *args)\u001b[0m\n\u001b[1;32m   1301\u001b[0m             \u001b[0mproto\u001b[0m\u001b[0;34m.\u001b[0m\u001b[0mEND_COMMAND_PART\u001b[0m\u001b[0;34m\u001b[0m\u001b[0;34m\u001b[0m\u001b[0m\n\u001b[1;32m   1302\u001b[0m \u001b[0;34m\u001b[0m\u001b[0m\n\u001b[0;32m-> 1303\u001b[0;31m         \u001b[0manswer\u001b[0m \u001b[0;34m=\u001b[0m \u001b[0mself\u001b[0m\u001b[0;34m.\u001b[0m\u001b[0mgateway_client\u001b[0m\u001b[0;34m.\u001b[0m\u001b[0msend_command\u001b[0m\u001b[0;34m(\u001b[0m\u001b[0mcommand\u001b[0m\u001b[0;34m)\u001b[0m\u001b[0;34m\u001b[0m\u001b[0;34m\u001b[0m\u001b[0m\n\u001b[0m\u001b[1;32m   1304\u001b[0m         return_value = get_return_value(\n\u001b[1;32m   1305\u001b[0m             answer, self.gateway_client, self.target_id, self.name)\n",
            "\u001b[0;32m/content/spark-3.0.0-bin-hadoop3.2/python/lib/py4j-0.10.9-src.zip/py4j/java_gateway.py\u001b[0m in \u001b[0;36msend_command\u001b[0;34m(self, command, retry, binary)\u001b[0m\n\u001b[1;32m   1031\u001b[0m         \u001b[0mconnection\u001b[0m \u001b[0;34m=\u001b[0m \u001b[0mself\u001b[0m\u001b[0;34m.\u001b[0m\u001b[0m_get_connection\u001b[0m\u001b[0;34m(\u001b[0m\u001b[0;34m)\u001b[0m\u001b[0;34m\u001b[0m\u001b[0;34m\u001b[0m\u001b[0m\n\u001b[1;32m   1032\u001b[0m         \u001b[0;32mtry\u001b[0m\u001b[0;34m:\u001b[0m\u001b[0;34m\u001b[0m\u001b[0;34m\u001b[0m\u001b[0m\n\u001b[0;32m-> 1033\u001b[0;31m             \u001b[0mresponse\u001b[0m \u001b[0;34m=\u001b[0m \u001b[0mconnection\u001b[0m\u001b[0;34m.\u001b[0m\u001b[0msend_command\u001b[0m\u001b[0;34m(\u001b[0m\u001b[0mcommand\u001b[0m\u001b[0;34m)\u001b[0m\u001b[0;34m\u001b[0m\u001b[0;34m\u001b[0m\u001b[0m\n\u001b[0m\u001b[1;32m   1034\u001b[0m             \u001b[0;32mif\u001b[0m \u001b[0mbinary\u001b[0m\u001b[0;34m:\u001b[0m\u001b[0;34m\u001b[0m\u001b[0;34m\u001b[0m\u001b[0m\n\u001b[1;32m   1035\u001b[0m                 \u001b[0;32mreturn\u001b[0m \u001b[0mresponse\u001b[0m\u001b[0;34m,\u001b[0m \u001b[0mself\u001b[0m\u001b[0;34m.\u001b[0m\u001b[0m_create_connection_guard\u001b[0m\u001b[0;34m(\u001b[0m\u001b[0mconnection\u001b[0m\u001b[0;34m)\u001b[0m\u001b[0;34m\u001b[0m\u001b[0;34m\u001b[0m\u001b[0m\n",
            "\u001b[0;32m/content/spark-3.0.0-bin-hadoop3.2/python/lib/py4j-0.10.9-src.zip/py4j/java_gateway.py\u001b[0m in \u001b[0;36msend_command\u001b[0;34m(self, command)\u001b[0m\n\u001b[1;32m   1198\u001b[0m \u001b[0;34m\u001b[0m\u001b[0m\n\u001b[1;32m   1199\u001b[0m         \u001b[0;32mtry\u001b[0m\u001b[0;34m:\u001b[0m\u001b[0;34m\u001b[0m\u001b[0;34m\u001b[0m\u001b[0m\n\u001b[0;32m-> 1200\u001b[0;31m             \u001b[0manswer\u001b[0m \u001b[0;34m=\u001b[0m \u001b[0msmart_decode\u001b[0m\u001b[0;34m(\u001b[0m\u001b[0mself\u001b[0m\u001b[0;34m.\u001b[0m\u001b[0mstream\u001b[0m\u001b[0;34m.\u001b[0m\u001b[0mreadline\u001b[0m\u001b[0;34m(\u001b[0m\u001b[0;34m)\u001b[0m\u001b[0;34m[\u001b[0m\u001b[0;34m:\u001b[0m\u001b[0;34m-\u001b[0m\u001b[0;36m1\u001b[0m\u001b[0;34m]\u001b[0m\u001b[0;34m)\u001b[0m\u001b[0;34m\u001b[0m\u001b[0;34m\u001b[0m\u001b[0m\n\u001b[0m\u001b[1;32m   1201\u001b[0m             \u001b[0mlogger\u001b[0m\u001b[0;34m.\u001b[0m\u001b[0mdebug\u001b[0m\u001b[0;34m(\u001b[0m\u001b[0;34m\"Answer received: {0}\"\u001b[0m\u001b[0;34m.\u001b[0m\u001b[0mformat\u001b[0m\u001b[0;34m(\u001b[0m\u001b[0manswer\u001b[0m\u001b[0;34m)\u001b[0m\u001b[0;34m)\u001b[0m\u001b[0;34m\u001b[0m\u001b[0;34m\u001b[0m\u001b[0m\n\u001b[1;32m   1202\u001b[0m             \u001b[0;32mif\u001b[0m \u001b[0manswer\u001b[0m\u001b[0;34m.\u001b[0m\u001b[0mstartswith\u001b[0m\u001b[0;34m(\u001b[0m\u001b[0mproto\u001b[0m\u001b[0;34m.\u001b[0m\u001b[0mRETURN_MESSAGE\u001b[0m\u001b[0;34m)\u001b[0m\u001b[0;34m:\u001b[0m\u001b[0;34m\u001b[0m\u001b[0;34m\u001b[0m\u001b[0m\n",
            "\u001b[0;32m/usr/lib/python3.9/socket.py\u001b[0m in \u001b[0;36mreadinto\u001b[0;34m(self, b)\u001b[0m\n\u001b[1;32m    702\u001b[0m         \u001b[0;32mwhile\u001b[0m \u001b[0;32mTrue\u001b[0m\u001b[0;34m:\u001b[0m\u001b[0;34m\u001b[0m\u001b[0;34m\u001b[0m\u001b[0m\n\u001b[1;32m    703\u001b[0m             \u001b[0;32mtry\u001b[0m\u001b[0;34m:\u001b[0m\u001b[0;34m\u001b[0m\u001b[0;34m\u001b[0m\u001b[0m\n\u001b[0;32m--> 704\u001b[0;31m                 \u001b[0;32mreturn\u001b[0m \u001b[0mself\u001b[0m\u001b[0;34m.\u001b[0m\u001b[0m_sock\u001b[0m\u001b[0;34m.\u001b[0m\u001b[0mrecv_into\u001b[0m\u001b[0;34m(\u001b[0m\u001b[0mb\u001b[0m\u001b[0;34m)\u001b[0m\u001b[0;34m\u001b[0m\u001b[0;34m\u001b[0m\u001b[0m\n\u001b[0m\u001b[1;32m    705\u001b[0m             \u001b[0;32mexcept\u001b[0m \u001b[0mtimeout\u001b[0m\u001b[0;34m:\u001b[0m\u001b[0;34m\u001b[0m\u001b[0;34m\u001b[0m\u001b[0m\n\u001b[1;32m    706\u001b[0m                 \u001b[0mself\u001b[0m\u001b[0;34m.\u001b[0m\u001b[0m_timeout_occurred\u001b[0m \u001b[0;34m=\u001b[0m \u001b[0;32mTrue\u001b[0m\u001b[0;34m\u001b[0m\u001b[0;34m\u001b[0m\u001b[0m\n",
            "\u001b[0;31mKeyboardInterrupt\u001b[0m: "
          ]
        }
      ]
    },
    {
      "cell_type": "code",
      "source": [
        "# Process 8 : Check the data at the output location\n",
        "\n",
        "out_df = spark.read.json(\"/content/output-5999222002\")\n",
        "out_df.show(truncate=False)"
      ],
      "metadata": {
        "colab": {
          "base_uri": "https://localhost:8080/"
        },
        "id": "KjDpeHuxYRZr",
        "outputId": "27e8ecb3-b9db-42d9-8b5e-3fe72bafaf78"
      },
      "execution_count": 30,
      "outputs": [
        {
          "output_type": "stream",
          "name": "stdout",
          "text": [
            "+---------------------------------------+--------------+----------+----------------------------------------------------------------------------------------+-----------------------------------------------------------------------------------------------------------------+--------------------------------------------------------------------------------------------------------------------------------------------------------------------------------------------------------+\n",
            "|authors                                |category      |date      |headline                                                                                |link                                                                                                             |short_description                                                                                                                                                                                       |\n",
            "+---------------------------------------+--------------+----------+----------------------------------------------------------------------------------------+-----------------------------------------------------------------------------------------------------------------+--------------------------------------------------------------------------------------------------------------------------------------------------------------------------------------------------------+\n",
            "|                                       |U.S. NEWS     |2022-09-04|Emergency Declared As Flash Flooding Hits Northwest Georgia                             |https://www.huffpost.com/entry/georgia-flash-flooding_n_63151514e4b0eac9f4cdc7d3                                 |Thunderstorms and heavy rain pounded parts of northwest Georgia on Sunday, sparking flash flooding and dangerously high waters in some areas.                                                           |\n",
            "|Marco Margaritoff                      |ENTERTAINMENT |2022-09-03|'The Osbournes' Will Return In British Revival On BBC: 'Same Laughter, Love And Tears'  |https://www.huffpost.com/entry/the-osbournes-revival-series-announcement_n_6313714ee4b046aa022acc2e              |Millennials might remember the family's MTV reality series from the early 2000s. The BBC series will be filmed at the 350-acre Osbourne estate in England.                                              |\n",
            "|                                       |U.S. NEWS     |2022-09-03|Plane That Circled Mississippi Threatening To Crash Has Landed                          |https://www.huffpost.com/entry/tupelo-mississippi-airplane-walmart_n_6313572be4b0536be045b912                    |A pilot has been arrested after circling a small airplane over Tupelo, Mississippi, while threatening to crash into a Walmart store.                                                                    |\n",
            "|Marcia Dunn, AP                        |SCIENCE       |2022-09-03|Fuel Leak Ruins NASA's 2nd Shot At Launching New Moon Rocket                            |https://www.huffpost.com/entry/fuel-leak-ruins-nasa-launch-moon-artemis_n_63137247e4b0eac9f4cd4aa2               |Part of the space agency's Artemis program, the rocket is the most powerful to date.                                                                                                                    |\n",
            "|Terry Wallace, AP                      |U.S. NEWS     |2022-09-03|9 Migrants Are Found Dead In Rio Grande: Border Patrol                                  |https://www.huffpost.com/entry/8-migrants-dead-rio-grande-border-patrol_n_6312d71ce4b0536be0458388               |Tragic toll followed hazardous crossing by desperate dozens, said officials.                                                                                                                            |\n",
            "|Ben Blanchet                           |U.S. NEWS     |2022-09-02|Owner Of New England Frozen Yogurt Shops Accused Of Hiding Camera In Store Bathroom     |https://www.huffpost.com/entry/new-england-frozen-yogurt-owner-charged_n_6311972ae4b020c4ffab96b2                |Nashua police charged Chanphanou (Sab) Pou with three misdemeanor counts of violation of privacy. He could face up to one year in jail for each charge.                                                 |\n",
            "|Marita Vlachou                         |POLITICS      |2022-09-02|Former White House Counsel Pat Cipollone To Testify Before Grand Jury: Reports          |https://www.huffpost.com/entry/pat-cipollone-jan-6-grand-jury_n_6311c619e4b07d96a24d2ae8                         |Cipollone's former deputy Patrick Philbin is also reportedly scheduled to provide testimony to the grand jury on Friday.                                                                                |\n",
            "|                                       |U.S. NEWS     |2022-09-02|Tropical Storm Danielle Strengthens Into Hurricane, No Current Threat To Land           |https://www.huffpost.com/entry/hurricane-danielle-tropical-storm_n_631236a4e4b020c4ffacca40                      |The storm — the first hurricane of an unusually quiet storm season — is centered about 885 miles west of the Azores.                                                                                    |\n",
            "|Jim Heintz and Vladimir Isachenkov, AP |WORLD NEWS    |2022-09-02|Putin Plans To Snub Gorbachev's Funeral                                                 |https://www.huffpost.com/entry/putin-snubs-gorbachev-funeral_n_6312499ce4b09e34c39504ef                          |The low-key funeral reflects the Kremlin’s uneasiness about the legacy of Gorbachev, who is despised by many at home for the collapse of the Soviet Union.                                              |\n",
            "|Marcia Dunn, AP                        |U.S. NEWS     |2022-09-02|NASA Aims For Saturday Launch Of New Moon Rocket After Fixing Fuel Leaks                |https://www.huffpost.com/entry/nasa-artemis-rocket-launch_n_631265e3e4b0fc6bd23b7e7e                             |The inaugural flight of the 322-foot Artemis I rocket — the most powerful ever built by NASA — was delayed late in the countdown Monday.                                                                |\n",
            "|Christopher Rugaber, AP                |U.S. NEWS     |2022-09-02|U.S. Hiring Slowed In August As Employers Add 315,000 Jobs                              |https://www.huffpost.com/entry/us-economy-jobs-report-august_n_6311fc30e4b0aefceecb070e                          |The unemployment rate rose to 3.7%, from a half-century low of 3.5% in July, as more Americans came off the sidelines to look for jobs.                                                                 |\n",
            "|Nina Golgowski                         |U.S. NEWS     |2022-09-01|Pregnant Woman Who Claimed Unborn Baby Was HOV Lane Passenger Receives Another Ticket   |https://www.huffpost.com/entry/pregnant-brandy-bottone-texas-hov-lane-citation_n_6310b3f7e4b088f7423b32d0        |Brandy Bottone had referred to Roe v. Wade and Texas' penal code, which identifies an unborn child as an individual, when she was first stopped for using the lane.                                     |\n",
            "|Eric Tucker and Mary Clare Jalonick, AP|U.S. NEWS     |2022-09-21|Virginia Thomas Agrees To Interview With Jan. 6 Panel                                   |https://www.huffpost.com/entry/virginia-thomas-agrees-to-interview-with-jan-6-panel_n_632ba0f2e4b09d8701bbe16d   |Conservative activist Virginia Thomas, the wife of Supreme Court Justice Clarence Thomas, has agreed to participate in a voluntary interview with the House panel investigating the Jan. 6 insurrection.|\n",
            "|Marco Margaritoff                      |WORLD NEWS    |2022-09-20|Russian Cosmonaut Valery Polyakov Who Broke Record With 437-Day Stay In Space Dies At 80|https://www.huffpost.com/entry/valery-polyakov-dies_n_6329d497e4b0913a3dd5336c                                   |Polyakov's record-breaking trip to outer space saw him orbit Earth 7,075 times and travel nearly 187 million miles.                                                                                     |\n",
            "|Marina Fang and Candice Frederick      |CULTURE & ARTS|2022-09-20|'Reboot' Is A Clever And Not Too Navel-Gazey Look Inside TV Reboots                     |https://www.huffpost.com/entry/hulu-reboot-should-you-watch-it_n_6324a099e4b0eac9f4e18b46                        |Starring Keegan-Michael Key, Judy Greer and Johnny Knoxville, the Hulu show follows the revival of a fictional early 2000s sitcom.                                                                      |\n",
            "|Beth Harris, AP                        |SPORTS        |2022-09-20|Maury Wills, Base-Stealing Shortstop For Dodgers, Dies At 89                            |https://www.huffpost.com/entry/dodgers-baseball-obit-wills_n_6329feb3e4b07198f0134500                            |Maury Wills, who helped the Los Angeles Dodgers win three World Series titles with his base-stealing prowess, has died.                                                                                 |\n",
            "|Jon Gambrell, AP                       |WORLD NEWS    |2022-09-20|4 Russian-Controlled Ukrainian Regions Schedule Votes This Week To Join Russia          |https://www.huffpost.com/entry/russian-controlled-ukrainian-regions-referendum_n_6329d53ae4b07198f012f023        |The concerted and quickening Kremlin-backed efforts to swallow up four regions could set the stage for Moscow to escalate the war.                                                                      |\n",
            "|Dánica Coto, AP                        |WORLD NEWS    |2022-09-20|Fiona Barrels Toward Turks And Caicos Islands As Category 3 Hurricane                   |https://www.huffpost.com/entry/hurricane-fiona-barrels-toward-turks-and-caicos-islands_n_63298597e4b0ed991abcacf9|The Turks and Caicos Islands government imposed a curfew as the intensifying storm kept dropping copious rain over the Dominican Republic and Puerto Rico.                                              |\n",
            "|                                       |ENTERTAINMENT |2022-09-20|Golden Globes Returning To NBC In January After Year Off-Air                            |https://www.huffpost.com/entry/golden-globes-return-nbc_n_6329f151e4b0ed991abda7f3                               |For the past 18 months, Hollywood has effectively boycotted the Globes after reports that the HFPA’s 87 members of non-American journalists included no Black members.                                  |\n",
            "|                                       |POLITICS      |2022-09-19|Biden Says U.S. Forces Would Defend Taiwan If China Invaded                             |https://www.huffpost.com/entry/biden-us-forces-defend-taiwan-against-china_n_6327ec68e4b0ed021dfe3695            |President issues vow as tensions with China rise.                                                                                                                                                       |\n",
            "+---------------------------------------+--------------+----------+----------------------------------------------------------------------------------------+-----------------------------------------------------------------------------------------------------------------+--------------------------------------------------------------------------------------------------------------------------------------------------------------------------------------------------------+\n",
            "only showing top 20 rows\n",
            "\n"
          ]
        }
      ]
    }
  ]
}